{
 "cells": [
  {
   "cell_type": "markdown",
   "metadata": {},
   "source": [
    "## Dataset: Legal Cases\n",
    "\n",
    "\n",
    "\n",
    "\n",
    "### Importing Libraries"
   ]
  },
  {
   "cell_type": "code",
   "execution_count": 74,
   "metadata": {
    "collapsed": true
   },
   "outputs": [],
   "source": [
    "from lxml import objectify\n",
    "import numpy as np\n",
    "from lxml import etree\n",
    "import pandas as pd\n",
    "import str\n",
    "import os"
   ]
  },
  {
   "cell_type": "markdown",
   "metadata": {},
   "source": [
    "### Data Preprocessing"
   ]
  },
  {
   "cell_type": "code",
   "execution_count": 96,
   "metadata": {},
   "outputs": [
    {
     "name": "stdout",
     "output_type": "stream",
     "text": [
      "==================================================================================================================\n",
      "Processing File:  corpus/citations_class/06_1575.xml\n",
      "==================================================================================================================\n",
      "Processing File:  corpus/citations_class/06_159.xml\n",
      "==================================================================================================================\n",
      "Processing File:  corpus/citations_class/06_1591.xml\n",
      "==================================================================================================================\n",
      "Processing File:  corpus/citations_class/06_1592.xml\n",
      "==================================================================================================================\n",
      "Processing File:  corpus/citations_class/06_1594.xml\n",
      "==================================================================================================================\n",
      "Processing File:  corpus/citations_class/06_1596.xml\n",
      "==================================================================================================================\n",
      "Processing File:  corpus/citations_class/06_1597.xml\n",
      "==================================================================================================================\n",
      "Processing File:  corpus/citations_class/06_16.xml\n",
      "==================================================================================================================\n",
      "Processing File:  corpus/citations_class/06_160.xml\n",
      "==================================================================================================================\n",
      "Processing File:  corpus/citations_class/06_1601.xml\n",
      "==================================================================================================================\n",
      "Processing File:  corpus/citations_class/06_1610.xml\n",
      "==================================================================================================================\n",
      "Processing File:  corpus/citations_class/06_1624.xml\n",
      "==================================================================================================================\n",
      "Processing File:  corpus/citations_class/06_1625.xml\n",
      "==================================================================================================================\n",
      "Processing File:  corpus/citations_class/06_1627.xml\n",
      "==================================================================================================================\n",
      "Processing File:  corpus/citations_class/06_163.xml\n",
      "==================================================================================================================\n",
      "Processing File:  corpus/citations_class/06_1630.xml\n",
      "==================================================================================================================\n",
      "Processing File:  corpus/citations_class/06_1632.xml\n",
      "==================================================================================================================\n",
      "Processing File:  corpus/citations_class/06_1637.xml\n",
      "==================================================================================================================\n",
      "Processing File:  corpus/citations_class/06_1639.xml\n",
      "==================================================================================================================\n",
      "Processing File:  corpus/citations_class/06_1640.xml\n",
      "==================================================================================================================\n",
      "Processing File:  corpus/citations_class/06_1641.xml\n",
      "==================================================================================================================\n",
      "Processing File:  corpus/citations_class/06_1642.xml\n"
     ]
    }
   ],
   "source": [
    "\n",
    "\n",
    "list=[]\n",
    "list = os.listdir(\"corpus/citations_class\")\n",
    "\n",
    "def extract_from_file(file,output_file_handle):\n",
    "    print('==================================================================================================================')\n",
    "    print('Processing File: ',file)\n",
    "    parser = etree.XMLParser(recover=True)\n",
    "    root=etree.parse(file).getroot()\n",
    "    rootChildren=root.getchildren()\n",
    "    for rootChild in rootChildren:\n",
    "        if rootChild.tag=='citations':\n",
    "            citations=rootChild.getchildren()\n",
    "            for citation in citations:\n",
    "                citationChildren=citation.getchildren()\n",
    "                for citationChild in citationChildren:\n",
    "                    if citationChild.tag=='class':\n",
    "                      \n",
    "                        output_file_handle.write(citationChild.text)\n",
    "                        output_file_handle.write('\\t')\n",
    "                    if citationChild.tag=='text':\n",
    "                       \n",
    "                        if citationChild.text is not None:\n",
    "                            \n",
    "                            to_write=citationChild.text\n",
    "                            to_write=re.sub(\"\\n\", \" \",to_write)\n",
    "                            output_file_handle.write(to_write)\n",
    "                            output_file_handle.write('\\n')\n",
    "                        else:\n",
    "                            output_file_handle.write(\" \")\n",
    "                            output_file_handle.write('\\n')\n",
    "                            \n",
    "outFile = open('outputFile1.txt', 'w+')\n",
    "\n",
    "for i in range(len(\"corpus/citations_class\")):\n",
    "    extract_from_file(\"corpus/citations_class/\"+list[i], outFile)"
   ]
  },
  {
   "cell_type": "markdown",
   "metadata": {
    "collapsed": true
   },
   "source": [
    "### Extracting Training Data & Labels"
   ]
  },
  {
   "cell_type": "code",
   "execution_count": 97,
   "metadata": {},
   "outputs": [
    {
     "name": "stdout",
     "output_type": "stream",
     "text": [
      "(117,)\n",
      "0      8 The principles to be applied in dealing with...\n",
      "1      6 Under the particular circumstances of this c...\n",
      "2      5 With that in mind, the matter was adjourned ...\n",
      "3      6 Under the particular circumstances of this c...\n",
      "4      9 His Honour s Reasons reflect the following o...\n",
      "5      9 His Honour s Reasons reflect the following o...\n",
      "6      9 His Honour s Reasons reflect the following o...\n",
      "7      9 His Honour s Reasons reflect the following o...\n",
      "8      9 His Honour s Reasons reflect the following o...\n",
      "9                                                  cited\n",
      "10     10 The questions to be determined on this Appl...\n",
      "11     18 Mr Samsonidis  first submission is that s 6...\n",
      "12     20 Mr Samsonidis submits that the purposive in...\n",
      "13     23 The purposive approach to the construction ...\n",
      "14     24 Mr Samsonidis submitted that there are two ...\n",
      "15     30 The purposive approach means, at the least,...\n",
      "16     30 The purposive approach means, at the least,...\n",
      "17     15 The Minister s relied on a series of decisi...\n",
      "18     15 The Minister s relied on a series of decisi...\n",
      "19     15 The Minister s relied on a series of decisi...\n",
      "20     20 In Applicants 325/2002 v Refugee Review Tri...\n",
      "21     30 Where a statute confers a discretion which ...\n",
      "22     30 Where a statute confers a discretion which ...\n",
      "23     18 It is common ground that Bective Station di...\n",
      "24     80 The nature of tendency evidence was conside...\n",
      "25     35 A claim for damages for breach of contract ...\n",
      "26     33 In Sunbird Plaza Gaudron J at 273 said:    ...\n",
      "27     32 As Mason CJ, with whom Deane, Dawson and To...\n",
      "28     11 His Honour was clearly correct to say that ...\n",
      "29     11 His Honour was clearly correct to say that ...\n",
      "                             ...                        \n",
      "87     24 In Canada v Ward [1993] 2 SCR 689, the appl...\n",
      "88     14 In Dranichnikov v Minister for Immigration ...\n",
      "89     20 The distinction between fears based on memb...\n",
      "90     28 Further, in SZEGA v Minister for Immigratio...\n",
      "91     10 It has been held in several cases that the ...\n",
      "92     6 The usual obligations, for which Harman v Ho...\n",
      "93     10 The Federal Magistrate considered that this...\n",
      "94     12 The appellant s notice of appeal raises fou...\n",
      "95     12 The appellant s notice of appeal raises fou...\n",
      "96     14 The decision of a Full Court in VAF v Minis...\n",
      "97     14 The decision of a Full Court in VAF v Minis...\n",
      "98     27 It is also well established that the proces...\n",
      "99     23 His Honour there observed that it would be ...\n",
      "100    23 His Honour there observed that it would be ...\n",
      "101    26 As a full court observed in Minister for Im...\n",
      "102    28 The third ground of appeal is that the Trib...\n",
      "103    25 It may be that the appellant seeks to raise...\n",
      "104    23 His Honour there observed that it would be ...\n",
      "105    22 In SCAA v Minister for Immigration and Mult...\n",
      "106    30 In SZEFM v Minister for Immigration and Mul...\n",
      "107    31 As her Honour Bennett J said, there was no ...\n",
      "108    37 It is well established that the scheme cont...\n",
      "109    14 Firstly, the natural justice hearing rule d...\n",
      "110    15 In any event there is no evidence before th...\n",
      "111    18 Even if there was information which fell wi...\n",
      "112    12 The first ground of appeal states in additi...\n",
      "113    11 It is well established that s 65(1) does no...\n",
      "114    14 Firstly, the natural justice hearing rule d...\n",
      "115    17 There is nothing which could be said to con...\n",
      "116    39 As subcl (a) and (b) of s 999(1) of the Act...\n",
      "Name: b, Length: 117, dtype: object\n"
     ]
    }
   ],
   "source": [
    "trainlabels=[]\n",
    "traindata=[]\n",
    "\n",
    "df=pd.read_csv('outputFile1.txt', sep=\"\\t\", header=None,  names=[\"a\", \"b\"])\n",
    "    \n",
    "trainlabels=df['a']\n",
    "traindata=df['b']\n",
    "print(trainlabels.shape)\n",
    "print(traindata)"
   ]
  },
  {
   "cell_type": "markdown",
   "metadata": {},
   "source": [
    "### Split Training & Testing Data"
   ]
  },
  {
   "cell_type": "code",
   "execution_count": 100,
   "metadata": {},
   "outputs": [
    {
     "name": "stdout",
     "output_type": "stream",
     "text": [
      "(24,)\n",
      "(24,)\n"
     ]
    }
   ],
   "source": [
    "from sklearn.model_selection import train_test_split\n",
    "from sklearn.metrics import accuracy_score\n",
    "from sklearn.naive_bayes import MultinomialNB \n",
    "from sklearn.metrics import accuracy_score\n",
    "\n",
    "X_train, X_test, Y_train, Y_test = train_test_split(traindata, trainlabels, test_size=.20, random_state=56)\n",
    "print(X_test.shape)\n",
    "print(Y_test.shape)\n"
   ]
  },
  {
   "cell_type": "markdown",
   "metadata": {
    "collapsed": true
   },
   "source": [
    "### Features Extraction"
   ]
  },
  {
   "cell_type": "code",
   "execution_count": 101,
   "metadata": {},
   "outputs": [
    {
     "name": "stdout",
     "output_type": "stream",
     "text": [
      "  (0, 297)\t1\n",
      "  (0, 1957)\t1\n",
      "  (0, 244)\t1\n",
      "  (0, 121)\t1\n",
      "  (0, 1782)\t1\n",
      "  (0, 2678)\t1\n",
      "  (0, 1919)\t1\n",
      "  (0, 2566)\t1\n",
      "  (0, 1316)\t1\n",
      "  (0, 2414)\t1\n",
      "  (0, 462)\t1\n",
      "  (0, 2475)\t1\n",
      "  (0, 1996)\t1\n",
      "  (0, 741)\t1\n",
      "  (0, 943)\t1\n",
      "  (0, 385)\t1\n",
      "  (0, 1791)\t1\n",
      "  (0, 696)\t1\n",
      "  (0, 1453)\t1\n",
      "  (0, 624)\t1\n",
      "  (0, 1166)\t1\n",
      "  (0, 477)\t2\n",
      "  (0, 2483)\t1\n",
      "  (0, 2756)\t2\n",
      "  (0, 1966)\t1\n",
      "  :\t:\n",
      "  (92, 2001)\t1\n",
      "  (92, 421)\t1\n",
      "  (92, 1884)\t1\n",
      "  (92, 1510)\t1\n",
      "  (92, 1854)\t1\n",
      "  (92, 1423)\t2\n",
      "  (92, 761)\t1\n",
      "  (92, 1452)\t1\n",
      "  (92, 1503)\t1\n",
      "  (92, 2938)\t1\n",
      "  (92, 2931)\t1\n",
      "  (92, 2058)\t1\n",
      "  (92, 143)\t1\n",
      "  (92, 1940)\t1\n",
      "  (92, 1449)\t1\n",
      "  (92, 617)\t1\n",
      "  (92, 131)\t1\n",
      "  (92, 130)\t1\n",
      "  (92, 503)\t1\n",
      "  (92, 480)\t2\n",
      "  (92, 1341)\t1\n",
      "  (92, 2727)\t3\n",
      "  (92, 1983)\t2\n",
      "  (92, 1638)\t1\n",
      "  (92, 1533)\t1\n",
      "  (0, 29)\t1\n",
      "  (0, 242)\t1\n",
      "  (0, 121)\t1\n",
      "  (0, 324)\t1\n",
      "  (0, 46)\t1\n",
      "  (0, 13)\t1\n",
      "  (0, 599)\t1\n",
      "  (0, 60)\t2\n",
      "  (0, 249)\t1\n",
      "  (0, 336)\t1\n",
      "  (0, 152)\t1\n",
      "  (0, 1041)\t1\n",
      "  (0, 887)\t1\n",
      "  (0, 540)\t1\n",
      "  (0, 562)\t1\n",
      "  (0, 843)\t3\n",
      "  (0, 317)\t1\n",
      "  (0, 1122)\t1\n",
      "  (0, 552)\t1\n",
      "  (0, 1045)\t1\n",
      "  (0, 1060)\t1\n",
      "  (0, 856)\t1\n",
      "  (0, 600)\t1\n",
      "  (0, 237)\t1\n",
      "  (0, 662)\t1\n",
      "  :\t:\n",
      "  (23, 588)\t3\n",
      "  (23, 1234)\t1\n",
      "  (23, 876)\t1\n",
      "  (23, 1067)\t1\n",
      "  (23, 1245)\t1\n",
      "  (23, 302)\t1\n",
      "  (23, 862)\t1\n",
      "  (23, 597)\t1\n",
      "  (23, 1154)\t1\n",
      "  (23, 314)\t1\n",
      "  (23, 644)\t8\n",
      "  (23, 265)\t4\n",
      "  (23, 843)\t8\n",
      "  (23, 317)\t1\n",
      "  (23, 856)\t3\n",
      "  (23, 237)\t2\n",
      "  (23, 1114)\t1\n",
      "  (23, 1160)\t3\n",
      "  (23, 205)\t3\n",
      "  (23, 851)\t1\n",
      "  (23, 204)\t2\n",
      "  (23, 1143)\t12\n",
      "  (23, 1142)\t3\n",
      "  (23, 683)\t4\n",
      "  (23, 686)\t4\n"
     ]
    }
   ],
   "source": [
    "from sklearn.feature_extraction.text import CountVectorizer\n",
    "count_vect = CountVectorizer()\n",
    "X_train_counts = count_vect.fit_transform(X_train)\n",
    "X_train_counts.shape\n",
    "print(X_train_counts)\n",
    "count_vect = CountVectorizer()\n",
    "X_test_counts = count_vect.fit_transform(X_test)\n",
    "X_test_counts.shape\n",
    "print(X_test_counts)"
   ]
  },
  {
   "cell_type": "markdown",
   "metadata": {},
   "source": [
    "### Importing Librarries"
   ]
  },
  {
   "cell_type": "code",
   "execution_count": 102,
   "metadata": {
    "collapsed": true
   },
   "outputs": [],
   "source": [
    "from sklearn.feature_extraction.text import TfidfTransformer\n",
    "from sklearn.feature_extraction.text import CountVectorizer\n",
    "from sklearn.pipeline import Pipeline\n",
    "from sklearn.metrics import accuracy_score\n",
    "from sklearn.naive_bayes import GaussianNB \n",
    "from sklearn.naive_bayes import MultinomialNB "
   ]
  },
  {
   "cell_type": "markdown",
   "metadata": {},
   "source": [
    "### TF-idf Weights"
   ]
  },
  {
   "cell_type": "code",
   "execution_count": 103,
   "metadata": {},
   "outputs": [
    {
     "name": "stdout",
     "output_type": "stream",
     "text": [
      "  (0, 188)\t0.13021182996\n",
      "  (0, 1533)\t0.039226288334\n",
      "  (0, 2653)\t0.167082783503\n",
      "  (0, 2116)\t0.167082783503\n",
      "  (0, 1383)\t0.167082783503\n",
      "  (0, 566)\t0.0486736030234\n",
      "  (0, 168)\t0.167082783503\n",
      "  (0, 2435)\t0.0792922738279\n",
      "  (0, 2731)\t0.0520422685988\n",
      "  (0, 1638)\t0.0854514149543\n",
      "  (0, 1930)\t0.0644565862358\n",
      "  (0, 1779)\t0.251568351369\n",
      "  (0, 1983)\t0.0776218143402\n",
      "  (0, 608)\t0.334165567006\n",
      "  (0, 2917)\t0.156268350414\n",
      "  (0, 2727)\t0.0379936660093\n",
      "  (0, 882)\t0.141026263049\n",
      "  (0, 2353)\t0.167082783503\n",
      "  (0, 1998)\t0.0598477672102\n",
      "  (0, 1339)\t0.167082783503\n",
      "  (0, 1645)\t0.0520422685988\n",
      "  (0, 1341)\t0.133817039536\n",
      "  (0, 2743)\t0.0544683756987\n",
      "  (0, 2290)\t0.0939328825554\n",
      "  (0, 2726)\t0.0400710792306\n",
      "  :\t:\n",
      "  (92, 1423)\t0.235198016887\n",
      "  (92, 1854)\t0.0960771474985\n",
      "  (92, 1510)\t0.101765592831\n",
      "  (92, 1884)\t0.103295549661\n",
      "  (92, 421)\t0.100281313243\n",
      "  (92, 2001)\t0.115569352195\n",
      "  (92, 1397)\t0.195590080104\n",
      "  (92, 746)\t0.172221653002\n",
      "  (92, 1428)\t0.195590080104\n",
      "  (92, 1655)\t0.152062060114\n",
      "  (92, 786)\t0.172221653002\n",
      "  (92, 2082)\t0.134744364914\n",
      "  (92, 1829)\t0.152062060114\n",
      "  (92, 1298)\t0.161127028433\n",
      "  (92, 2094)\t0.166365518897\n",
      "  (92, 889)\t0.178860790277\n",
      "  (92, 2543)\t0.178860790277\n",
      "  (92, 1835)\t0.161127028433\n",
      "  (92, 158)\t0.172221653002\n",
      "  (92, 1684)\t0.220988163455\n",
      "  (92, 727)\t0.206684704672\n",
      "  (92, 215)\t0.220988163455\n",
      "  (92, 1379)\t0.241147756343\n",
      "  (92, 142)\t0.241147756343\n",
      "  (92, 205)\t0.241147756343\n",
      "  (0, 83)\t0.128693684158\n",
      "  (0, 686)\t0.124536150518\n",
      "  (0, 683)\t0.186804225777\n",
      "  (0, 198)\t0.107194591855\n",
      "  (0, 1227)\t0.276721944337\n",
      "  (0, 494)\t0.101608031123\n",
      "  (0, 1142)\t0.0574444526647\n",
      "  (0, 1143)\t0.114888905329\n",
      "  (0, 925)\t0.186945717507\n",
      "  (0, 204)\t0.146944755443\n",
      "  (0, 670)\t0.186945717507\n",
      "  (0, 851)\t0.113439835415\n",
      "  (0, 205)\t0.0648550900771\n",
      "  (0, 757)\t0.128693684158\n",
      "  (0, 557)\t0.0622680752589\n",
      "  (0, 214)\t0.101608031123\n",
      "  (0, 1160)\t0.11960286235\n",
      "  (0, 940)\t0.165446625204\n",
      "  (0, 1114)\t0.101608031123\n",
      "  (0, 662)\t0.138360972169\n",
      "  (0, 237)\t0.0734723777213\n",
      "  (0, 600)\t0.138360972169\n",
      "  (0, 856)\t0.0919407431122\n",
      "  (0, 1060)\t0.186945717507\n",
      "  (0, 1045)\t0.186945717507\n",
      "  :\t:\n",
      "  (23, 241)\t0.0688590010857\n",
      "  (23, 610)\t0.0472137388139\n",
      "  (23, 580)\t0.0535624013258\n",
      "  (23, 592)\t0.137718002171\n",
      "  (23, 261)\t0.137718002171\n",
      "  (23, 184)\t0.0688590010857\n",
      "  (23, 1262)\t0.0688590010857\n",
      "  (23, 50)\t0.0688590010857\n",
      "  (23, 7)\t0.0688590010857\n",
      "  (23, 8)\t0.0688590010857\n",
      "  (23, 848)\t0.0625103385739\n",
      "  (23, 736)\t0.0688590010857\n",
      "  (23, 1147)\t0.034863953707\n",
      "  (23, 776)\t0.0688590010857\n",
      "  (23, 357)\t0.0688590010857\n",
      "  (23, 697)\t0.0688590010857\n",
      "  (23, 781)\t0.0688590010857\n",
      "  (23, 840)\t0.0688590010857\n",
      "  (23, 730)\t0.0688590010857\n",
      "  (23, 165)\t0.0688590010857\n",
      "  (23, 749)\t0.0688590010857\n",
      "  (23, 399)\t0.137718002171\n",
      "  (23, 1073)\t0.0688590010857\n",
      "  (23, 585)\t0.0688590010857\n",
      "  (23, 568)\t0.0688590010857\n"
     ]
    }
   ],
   "source": [
    "tfidf_transformer = TfidfTransformer()\n",
    "X_train_tfidf = tfidf_transformer.fit_transform(X_train_counts)\n",
    "X_train_tfidf.shape\n",
    "print(X_train_tfidf)\n",
    "tfidf_transformer = TfidfTransformer()\n",
    "X_test_tfidf = tfidf_transformer.fit_transform(X_test_counts)\n",
    "X_test_tfidf.shape\n",
    "print(X_test_tfidf)\n"
   ]
  },
  {
   "cell_type": "markdown",
   "metadata": {},
   "source": [
    "### Naive Bayes Implementation"
   ]
  },
  {
   "cell_type": "code",
   "execution_count": 104,
   "metadata": {},
   "outputs": [
    {
     "name": "stdout",
     "output_type": "stream",
     "text": [
      "0.0416666666667\n",
      "Accuracy on test data = 50.0 %\n"
     ]
    }
   ],
   "source": [
    "from sklearn.pipeline import Pipeline\n",
    "from sklearn.metrics import accuracy_score\n",
    "from sklearn.naive_bayes import GaussianNB \n",
    "from sklearn.naive_bayes import MultinomialNB \n",
    "text_clf = Pipeline([('vect', CountVectorizer()),('tfidf', TfidfTransformer()), ('clf', MultinomialNB()),])\n",
    "text_clf = text_clf.fit(X_train, Y_train)\n",
    "import numpy as np\n",
    "predicted = text_clf.predict(X_test)\n",
    "print(np.mean(predicted == X_test))\n",
    "print(\"Accuracy on test data = {} %\".format(round(accuracy_score(Y_test,predicted)*100),2))\n"
   ]
  },
  {
   "cell_type": "markdown",
   "metadata": {},
   "source": [
    "### K-Nearest Neighbours (KNN) Implementation"
   ]
  },
  {
   "cell_type": "code",
   "execution_count": 105,
   "metadata": {},
   "outputs": [
    {
     "name": "stdout",
     "output_type": "stream",
     "text": [
      "0.416666666667\n",
      "Accuracy on test data = 42.0 %\n"
     ]
    }
   ],
   "source": [
    "from sklearn import neighbors\n",
    "from sklearn.pipeline import Pipeline\n",
    "from sklearn.metrics import accuracy_score\n",
    "text_clf = Pipeline([('vect', CountVectorizer()),('tfidf', TfidfTransformer()), ('clf', neighbors.KNeighborsClassifier(4)),])\n",
    "text_clf = text_clf.fit(X_train, Y_train)\n",
    "import numpy as np\n",
    "predicted = text_clf.predict(X_test)\n",
    "print(np.mean(predicted == Y_test))\n",
    "print(\"Accuracy on test data = {} %\".format(round(accuracy_score(Y_test,predicted)*100),2))\n"
   ]
  },
  {
   "cell_type": "markdown",
   "metadata": {},
   "source": [
    "### Rocchio Implementation"
   ]
  },
  {
   "cell_type": "code",
   "execution_count": 113,
   "metadata": {},
   "outputs": [
    {
     "data": {
      "text/plain": [
       "'Accuracy on test data = 85.0 %'"
      ]
     },
     "execution_count": 113,
     "metadata": {},
     "output_type": "execute_result"
    }
   ],
   "source": [
    "from sklearn.neighbors.nearest_centroid import NearestCentroid\n",
    "from sklearn.metrics import accuracy_score\n",
    "import numpy as np\n",
    "#print(Y_train)\n",
    "clf = NearestCentroid()\n",
    "clf.fit(X_train_tfidf, Y_train)\n",
    "NearestCentroid(metric='euclidean', shrink_threshold=None)\n",
    "#predicted=print(clf.predict(X_train_tfidf))\n",
    "predicted = clf.predict(X_train_tfidf)\n",
    "#print(predicted)\n",
    "#print(np.mean(predicted == Y_train))\n",
    "(\"Accuracy on test data = {} %\".format(round(accuracy_score(Y_train,predicted)*100),2))\n",
    "\n"
   ]
  },
  {
   "cell_type": "code",
   "execution_count": null,
   "metadata": {
    "collapsed": true
   },
   "outputs": [],
   "source": []
  }
 ],
 "metadata": {
  "kernelspec": {
   "display_name": "Python 3",
   "language": "python",
   "name": "python3"
  },
  "language_info": {
   "codemirror_mode": {
    "name": "ipython",
    "version": 3
   },
   "file_extension": ".py",
   "mimetype": "text/x-python",
   "name": "python",
   "nbconvert_exporter": "python",
   "pygments_lexer": "ipython3",
   "version": "3.5.5"
  }
 },
 "nbformat": 4,
 "nbformat_minor": 2
}
