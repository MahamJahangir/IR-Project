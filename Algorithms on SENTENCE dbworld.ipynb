{
 "cells": [
  {
   "cell_type": "markdown",
   "metadata": {},
   "source": [
    "## Dataset: DBworld\n",
    "\n",
    "\n",
    "\n",
    "### Importing Libraries"
   ]
  },
  {
   "cell_type": "code",
   "execution_count": 1,
   "metadata": {},
   "outputs": [],
   "source": [
    "import arff\n",
    "import pandas as pd\n",
    "import numpy as np\n",
    "import os"
   ]
  },
  {
   "cell_type": "markdown",
   "metadata": {},
   "source": [
    "### Loading Dataset"
   ]
  },
  {
   "cell_type": "code",
   "execution_count": 2,
   "metadata": {},
   "outputs": [],
   "source": [
    "import arff, numpy as np\n",
    "dataset = arff.load(open('dbworld\\WEKA\\dbworld_bodies.arff', 'rb'))\n",
    "data = np.array(dataset)\n"
   ]
  },
  {
   "cell_type": "code",
   "execution_count": 3,
   "metadata": {},
   "outputs": [
    {
     "name": "stdout",
     "output_type": "stream",
     "text": [
      "<generator object load at 0x0000016444FC8BF8>\n"
     ]
    }
   ],
   "source": [
    "print(data)"
   ]
  },
  {
   "cell_type": "markdown",
   "metadata": {},
   "source": [
    "### Dataset Reading"
   ]
  },
  {
   "cell_type": "code",
   "execution_count": 116,
   "metadata": {
    "collapsed": true
   },
   "outputs": [],
   "source": [
    "df=pd.read_csv('dbworld\\WEKA\\dbworld_bodies.arff', sep=\";\", header=None)\n"
   ]
  },
  {
   "cell_type": "code",
   "execution_count": 117,
   "metadata": {},
   "outputs": [
    {
     "name": "stdout",
     "output_type": "stream",
     "text": [
      "(4769, 1)\n",
      "                                                      0\n",
      "4703                             @attribute CLASS {0,1}\n",
      "4704                                              @data\n",
      "4705  0,0,0,0,0,0,0,0,0,0,0,0,0,0,0,0,0,0,0,0,0,0,0,...\n",
      "4706  0,0,0,0,0,0,0,0,0,0,0,0,0,0,0,0,0,0,0,0,0,0,0,...\n",
      "4707  0,0,0,0,0,0,0,0,0,0,0,0,0,0,0,0,0,0,0,0,0,0,0,...\n",
      "4708  0,0,0,0,0,0,0,0,0,0,0,0,0,0,0,0,0,0,0,0,0,0,0,...\n",
      "4709  0,0,0,0,0,0,0,0,0,0,0,0,0,0,0,0,0,0,0,0,0,0,0,...\n",
      "4710  0,0,0,0,0,0,0,0,0,0,0,0,0,0,0,0,0,0,0,0,0,0,0,...\n",
      "4711  0,0,0,0,0,0,0,0,1,0,0,0,0,0,0,0,0,0,0,0,0,0,0,...\n",
      "4712  0,0,0,0,0,0,0,0,0,0,0,0,0,0,0,0,0,0,0,0,0,0,0,...\n",
      "4713  0,0,0,0,0,0,0,0,0,0,0,0,0,0,0,0,0,0,0,0,0,0,0,...\n",
      "4714  0,0,0,0,0,0,0,0,0,0,0,0,0,0,0,0,0,0,0,0,0,0,0,...\n",
      "4715  0,0,0,0,0,1,0,0,0,0,0,0,0,0,0,0,0,0,0,0,0,0,0,...\n",
      "4716  0,0,0,0,0,0,0,0,0,0,0,0,0,0,0,0,0,0,0,0,0,0,0,...\n",
      "4717  0,0,0,0,0,0,0,0,0,0,0,0,0,0,0,0,0,0,0,0,0,0,0,...\n",
      "4718  0,0,0,0,0,0,0,1,0,0,0,0,0,0,0,0,0,0,0,0,0,0,0,...\n",
      "4719  0,0,0,0,0,0,0,0,0,0,0,0,0,0,0,1,1,1,1,0,0,0,0,...\n",
      "4720  0,0,0,0,0,0,1,0,1,0,0,0,0,0,0,0,0,0,0,0,0,0,0,...\n",
      "4721  0,0,0,0,0,0,0,0,0,0,0,0,0,0,0,0,0,0,0,0,0,0,0,...\n",
      "4722  0,0,0,0,0,0,0,0,0,0,0,0,0,0,0,0,0,0,0,0,0,0,0,...\n",
      "4723  0,0,0,1,0,0,0,0,0,0,0,0,0,0,0,0,0,0,0,0,0,0,0,...\n",
      "4724  0,0,0,0,0,0,0,0,0,0,0,0,0,0,0,0,0,0,0,0,0,0,0,...\n",
      "4725  0,0,0,0,0,0,0,0,0,0,0,0,1,0,0,0,0,0,0,0,0,0,0,...\n",
      "4726  0,0,0,0,0,0,0,0,0,0,0,0,0,0,0,0,0,0,0,0,0,0,0,...\n",
      "4727  0,0,0,0,0,0,0,0,0,0,0,0,0,0,0,0,0,0,0,0,0,0,0,...\n",
      "4728  0,0,0,0,0,0,0,0,0,0,0,0,1,0,0,0,0,0,0,0,0,0,0,...\n",
      "4729  0,0,0,0,0,0,0,0,0,0,0,0,0,0,0,0,0,0,0,0,0,0,0,...\n",
      "4730  0,0,0,0,0,0,0,0,0,0,0,0,0,0,0,0,0,0,0,0,0,0,0,...\n",
      "4731  0,0,0,0,0,0,0,0,0,0,0,0,0,0,0,0,0,0,0,0,0,0,0,...\n",
      "4732  0,0,0,0,0,0,0,0,0,0,0,0,0,0,0,0,0,0,0,0,0,0,0,...\n",
      "...                                                 ...\n",
      "4739  0,0,0,0,0,0,0,0,0,0,0,0,0,0,1,0,0,0,0,0,0,0,0,...\n",
      "4740  0,0,1,0,0,0,0,0,0,0,0,0,0,0,0,0,0,0,0,0,0,0,0,...\n",
      "4741  0,0,0,0,0,0,0,0,0,1,0,0,0,0,0,0,0,0,0,0,0,0,0,...\n",
      "4742  0,0,0,0,0,0,0,0,0,0,0,0,0,0,0,0,0,0,0,0,0,0,0,...\n",
      "4743  0,0,1,0,0,0,0,0,0,0,0,0,0,0,0,0,0,0,0,0,0,0,0,...\n",
      "4744  0,0,0,0,0,0,0,0,0,0,0,0,0,0,0,0,0,0,0,0,0,0,0,...\n",
      "4745  0,0,0,0,0,0,0,0,0,0,0,0,0,0,0,0,0,0,0,0,0,1,0,...\n",
      "4746  0,0,1,1,0,0,1,0,0,0,0,0,0,0,0,0,0,0,0,0,0,0,0,...\n",
      "4747  0,0,0,0,0,0,0,0,0,0,0,0,0,0,0,0,0,0,0,0,0,0,0,...\n",
      "4748  0,0,0,0,0,0,0,0,0,0,0,0,0,0,0,0,0,0,0,0,0,0,0,...\n",
      "4749  0,0,0,0,0,0,0,0,0,0,0,0,0,0,0,0,0,0,0,0,0,0,0,...\n",
      "4750  0,0,0,0,0,0,0,1,0,0,0,0,0,0,0,0,0,0,0,0,0,0,1,...\n",
      "4751  0,0,0,0,0,0,0,0,1,0,0,0,0,0,0,0,0,0,0,1,0,0,0,...\n",
      "4752  0,0,0,1,0,0,0,0,0,0,0,0,0,0,0,0,0,0,0,0,0,0,0,...\n",
      "4753  0,0,0,0,0,0,0,0,0,0,1,0,0,0,0,0,0,0,0,0,0,0,0,...\n",
      "4754  0,0,0,0,0,0,0,0,0,0,0,0,0,0,0,0,0,0,0,0,0,0,0,...\n",
      "4755  0,0,1,0,0,0,0,0,0,0,0,0,0,0,0,0,0,0,0,0,0,0,0,...\n",
      "4756  0,0,0,0,0,0,0,0,0,0,0,0,0,0,0,0,0,0,0,0,0,0,0,...\n",
      "4757  1,1,0,0,1,0,0,0,0,0,0,0,1,0,0,0,0,0,0,0,0,0,0,...\n",
      "4758  0,0,0,0,0,0,0,0,0,0,0,0,0,0,0,0,0,0,0,0,0,0,0,...\n",
      "4759  0,0,0,0,0,0,0,0,0,0,0,0,0,0,0,0,0,0,0,0,0,0,0,...\n",
      "4760  0,0,0,0,0,0,0,0,0,0,0,0,0,0,0,0,0,0,0,0,0,0,0,...\n",
      "4761  0,0,0,0,0,0,0,0,0,0,0,0,0,0,0,0,0,0,0,0,0,0,0,...\n",
      "4762  0,0,0,0,0,0,0,0,0,0,0,0,0,0,0,0,0,0,0,0,0,0,0,...\n",
      "4763  0,0,0,0,0,0,0,0,0,0,0,1,0,0,0,0,0,0,0,0,0,0,0,...\n",
      "4764  0,0,0,0,0,0,0,0,0,0,0,0,0,0,0,0,0,0,0,0,0,0,0,...\n",
      "4765  0,0,0,0,0,0,0,0,0,0,0,0,0,0,0,0,0,0,0,0,0,0,0,...\n",
      "4766  0,0,0,0,0,0,0,0,0,0,0,0,0,0,0,0,0,0,0,0,0,1,0,...\n",
      "4767  0,0,0,0,0,0,0,0,0,0,0,0,0,0,0,0,0,0,0,0,0,0,0,...\n",
      "4768  0,0,0,0,0,0,0,0,0,0,0,0,0,0,0,0,0,0,0,0,0,0,0,...\n",
      "\n",
      "[66 rows x 1 columns]\n"
     ]
    }
   ],
   "source": [
    "print(df.shape)\n",
    "print(df[4703:])"
   ]
  },
  {
   "cell_type": "markdown",
   "metadata": {},
   "source": [
    "### Conversion from .arff to .csv data files"
   ]
  },
  {
   "cell_type": "code",
   "execution_count": 4,
   "metadata": {},
   "outputs": [],
   "source": [
    "# Importing library\n",
    "import os\n",
    "\n",
    "# Getting all the arff files from the current directory\n",
    "files = [arff for arff in os.listdir('.') if arff.endswith(\".arff\")]\n",
    "\n",
    "# Function for converting arff list to csv list\n",
    "def toCsv(content):\n",
    "    data = False\n",
    "    header = \"\"\n",
    "    newContent = []\n",
    "    for line in content:\n",
    "        if not data:\n",
    "            if \"@attribute\" in line:\n",
    "                attri = line.split()\n",
    "                columnName = attri[attri.index(\"@attribute\")+1]\n",
    "                header = header + columnName + \",\"\n",
    "            elif \"@data\" in line:\n",
    "                data = True\n",
    "                header = header[:-1]\n",
    "                header += '\\n'\n",
    "                newContent.append(header)\n",
    "        else:\n",
    "            newContent.append(line)\n",
    "    return newContent\n",
    "\n",
    "# Main loop for reading and writing files\n",
    "for file in files:\n",
    "    with open(file , \"r\") as inFile:\n",
    "        content = inFile.readlines()\n",
    "        name,ext = os.path.splitext(inFile.name)\n",
    "        new = toCsv(content)\n",
    "        with open(name+\".csv\", \"w\") as outFile:\n",
    "            outFile.writelines(new)"
   ]
  },
  {
   "cell_type": "markdown",
   "metadata": {},
   "source": [
    "### Importing Libraries & Reading .csv files"
   ]
  },
  {
   "cell_type": "code",
   "execution_count": 5,
   "metadata": {},
   "outputs": [
    {
     "name": "stdout",
     "output_type": "stream",
     "text": [
      "    000euro  05102011  10th  11th  12noon  12th  13th  14th  15th  16th  \\\n",
      "0         0         0     0     0       0     0     0     0     0     0   \n",
      "1         0         0     0     0       0     0     0     0     0     0   \n",
      "2         0         0     0     0       0     0     0     0     0     0   \n",
      "3         0         0     0     0       0     0     0     0     0     0   \n",
      "4         0         0     0     0       0     0     0     0     0     0   \n",
      "5         0         0     0     0       0     0     0     0     0     0   \n",
      "6         0         0     0     0       0     0     0     0     1     0   \n",
      "7         0         0     0     0       0     0     0     0     0     0   \n",
      "8         0         0     0     0       0     0     0     0     0     0   \n",
      "9         0         0     0     0       0     0     0     0     0     0   \n",
      "10        0         0     0     0       0     1     0     0     0     0   \n",
      "11        0         0     0     0       0     0     0     0     0     0   \n",
      "12        0         0     0     0       0     0     0     0     0     0   \n",
      "13        0         0     0     0       0     0     0     1     0     0   \n",
      "14        0         0     0     0       0     0     0     0     0     0   \n",
      "15        0         0     0     0       0     0     1     0     1     0   \n",
      "16        0         0     0     0       0     0     0     0     0     0   \n",
      "17        0         0     0     0       0     0     0     0     0     0   \n",
      "18        0         0     0     1       0     0     0     0     0     0   \n",
      "19        0         0     0     0       0     0     0     0     0     0   \n",
      "20        0         0     0     0       0     0     0     0     0     0   \n",
      "21        0         0     0     0       0     0     0     0     0     0   \n",
      "22        0         0     0     0       0     0     0     0     0     0   \n",
      "23        0         0     0     0       0     0     0     0     0     0   \n",
      "24        0         0     0     0       0     0     0     0     0     0   \n",
      "25        0         0     0     0       0     0     0     0     0     0   \n",
      "26        0         0     0     0       0     0     0     0     0     0   \n",
      "27        0         0     0     0       0     0     0     0     0     0   \n",
      "28        0         0     0     0       0     0     0     0     0     0   \n",
      "29        0         0     0     0       0     0     0     0     0     0   \n",
      "..      ...       ...   ...   ...     ...   ...   ...   ...   ...   ...   \n",
      "34        0         0     0     0       0     0     0     0     0     0   \n",
      "35        0         0     1     0       0     0     0     0     0     0   \n",
      "36        0         0     0     0       0     0     0     0     0     1   \n",
      "37        0         0     0     0       0     0     0     0     0     0   \n",
      "38        0         0     1     0       0     0     0     0     0     0   \n",
      "39        0         0     0     0       0     0     0     0     0     0   \n",
      "40        0         0     0     0       0     0     0     0     0     0   \n",
      "41        0         0     1     1       0     0     1     0     0     0   \n",
      "42        0         0     0     0       0     0     0     0     0     0   \n",
      "43        0         0     0     0       0     0     0     0     0     0   \n",
      "44        0         0     0     0       0     0     0     0     0     0   \n",
      "45        0         0     0     0       0     0     0     1     0     0   \n",
      "46        0         0     0     0       0     0     0     0     1     0   \n",
      "47        0         0     0     1       0     0     0     0     0     0   \n",
      "48        0         0     0     0       0     0     0     0     0     0   \n",
      "49        0         0     0     0       0     0     0     0     0     0   \n",
      "50        0         0     1     0       0     0     0     0     0     0   \n",
      "51        0         0     0     0       0     0     0     0     0     0   \n",
      "52        1         1     0     0       1     0     0     0     0     0   \n",
      "53        0         0     0     0       0     0     0     0     0     0   \n",
      "54        0         0     0     0       0     0     0     0     0     0   \n",
      "55        0         0     0     0       0     0     0     0     0     0   \n",
      "56        0         0     0     0       0     0     0     0     0     0   \n",
      "57        0         0     0     0       0     0     0     0     0     0   \n",
      "58        0         0     0     0       0     0     0     0     0     0   \n",
      "59        0         0     0     0       0     0     0     0     0     0   \n",
      "60        0         0     0     0       0     0     0     0     0     0   \n",
      "61        0         0     0     0       0     0     0     0     0     0   \n",
      "62        0         0     0     0       0     0     0     0     0     0   \n",
      "63        0         0     0     0       0     0     0     0     0     0   \n",
      "\n",
      "    ...    znie  zurich  zÃ¼rich  Ã¨top  Ã¶zsu  Ã»37  Ã»42  Ã»46  Ã»56  CLASS  \n",
      "0   ...       0       0        0      0      0     0     0     0     0      0  \n",
      "1   ...       0       1        0      0      0     0     0     0     0      0  \n",
      "2   ...       0       0        0      0      0     0     0     0     0      0  \n",
      "3   ...       0       0        0      0      0     0     0     0     0      0  \n",
      "4   ...       0       0        0      0      0     0     0     0     0      0  \n",
      "5   ...       0       0        0      0      0     0     0     0     0      0  \n",
      "6   ...       0       0        0      0      0     0     0     0     0      0  \n",
      "7   ...       0       0        0      0      0     0     0     0     0      0  \n",
      "8   ...       0       0        0      0      0     1     1     1     1      0  \n",
      "9   ...       0       0        0      0      0     0     0     0     0      0  \n",
      "10  ...       0       0        0      0      0     0     0     0     0      0  \n",
      "11  ...       0       0        0      0      0     0     0     0     0      0  \n",
      "12  ...       0       0        0      0      0     0     0     0     0      0  \n",
      "13  ...       0       0        0      0      0     0     0     0     0      0  \n",
      "14  ...       0       0        0      0      0     0     0     0     0      0  \n",
      "15  ...       0       0        0      0      0     0     0     0     0      0  \n",
      "16  ...       0       0        0      0      0     0     0     0     0      0  \n",
      "17  ...       0       0        0      0      0     0     0     0     0      0  \n",
      "18  ...       0       0        0      0      0     0     0     0     0      0  \n",
      "19  ...       0       0        0      0      0     0     0     0     0      0  \n",
      "20  ...       0       0        0      0      0     0     0     0     0      0  \n",
      "21  ...       0       0        0      0      0     0     0     0     0      0  \n",
      "22  ...       0       0        0      0      0     0     0     0     0      0  \n",
      "23  ...       0       0        0      0      0     0     0     0     0      0  \n",
      "24  ...       0       0        0      0      0     0     0     0     0      0  \n",
      "25  ...       0       0        0      0      0     0     0     0     0      1  \n",
      "26  ...       0       0        0      0      0     0     0     0     0      1  \n",
      "27  ...       0       0        0      0      0     0     0     0     0      1  \n",
      "28  ...       0       1        0      0      0     0     0     0     0      1  \n",
      "29  ...       0       0        0      0      0     0     0     0     0      1  \n",
      "..  ...     ...     ...      ...    ...    ...   ...   ...   ...   ...    ...  \n",
      "34  ...       0       0        0      0      0     0     0     0     0      1  \n",
      "35  ...       0       0        0      0      0     0     0     0     0      1  \n",
      "36  ...       0       0        0      0      0     0     0     0     0      1  \n",
      "37  ...       0       0        0      0      0     0     0     0     0      1  \n",
      "38  ...       0       0        0      0      0     0     0     0     0      1  \n",
      "39  ...       0       0        0      0      0     0     0     0     0      1  \n",
      "40  ...       0       0        0      0      0     0     0     0     0      1  \n",
      "41  ...       0       0        0      0      0     0     0     0     0      1  \n",
      "42  ...       0       0        0      0      0     0     0     0     0      1  \n",
      "43  ...       0       0        0      0      0     0     0     0     0      1  \n",
      "44  ...       0       0        0      0      0     0     0     0     0      1  \n",
      "45  ...       0       0        0      0      0     0     0     0     0      1  \n",
      "46  ...       0       0        0      0      0     0     0     0     0      1  \n",
      "47  ...       0       0        0      0      0     0     0     0     0      1  \n",
      "48  ...       0       0        0      0      0     0     0     0     0      1  \n",
      "49  ...       0       0        0      0      0     0     0     0     0      1  \n",
      "50  ...       0       0        0      1      0     0     0     0     0      0  \n",
      "51  ...       0       0        0      0      0     0     0     0     0      0  \n",
      "52  ...       0       0        0      0      0     0     0     0     0      0  \n",
      "53  ...       0       0        0      0      0     0     0     0     0      0  \n",
      "54  ...       1       0        0      0      0     0     0     0     0      0  \n",
      "55  ...       0       0        0      0      0     0     0     0     0      0  \n",
      "56  ...       0       0        0      0      0     0     0     0     0      1  \n",
      "57  ...       0       0        0      0      0     0     0     0     0      1  \n",
      "58  ...       0       0        1      0      1     0     0     0     0      1  \n",
      "59  ...       0       0        0      0      0     0     0     0     0      1  \n",
      "60  ...       0       0        0      0      0     0     0     0     0      0  \n",
      "61  ...       0       0        0      0      0     0     0     0     0      0  \n",
      "62  ...       0       0        0      0      0     0     0     0     0      0  \n",
      "63  ...       0       0        0      0      0     0     0     0     0      0  \n",
      "\n",
      "[64 rows x 4703 columns]\n"
     ]
    }
   ],
   "source": [
    "#Importing Libraries\n",
    "import pandas as pandas\n",
    "import numpy as np\n",
    "from sklearn.model_selection import train_test_split\n",
    "from sklearn.metrics import accuracy_score\n",
    "from sklearn.naive_bayes import MultinomialNB \n",
    "from sklearn.metrics import accuracy_score\n",
    "#df=pd.read_csv('dbworld_bodies.csv', sep=\";\", header=None)\n",
    "df=pd.read_csv('dbworld_bodies.csv', sep=\",\", encoding='latin-1')\n",
    "#df=pd.read_csv('dbworld_bodies.csv', sep='|', encoding='latin-1')\n",
    "\n",
    "print(df)\n",
    "\n",
    "Features = df.iloc[:, 0:4702]\n",
    "Labels = df.iloc[:, -1]\n",
    "#print(Labels)\n"
   ]
  },
  {
   "cell_type": "markdown",
   "metadata": {},
   "source": [
    "### Splitting Dataset in Train & Test"
   ]
  },
  {
   "cell_type": "code",
   "execution_count": 6,
   "metadata": {},
   "outputs": [],
   "source": [
    "#Using train test split function to divide data into training set and test set using 80%:20% ratio\n",
    "X_train, X_test, Y_train, Y_test = train_test_split(Features, Labels, test_size=.20, random_state=56)"
   ]
  },
  {
   "cell_type": "markdown",
   "metadata": {},
   "source": [
    "### Naive Bayes Implementation"
   ]
  },
  {
   "cell_type": "code",
   "execution_count": 7,
   "metadata": {},
   "outputs": [
    {
     "name": "stdout",
     "output_type": "stream",
     "text": [
      "Accuracy on test data = 85.0 %\n"
     ]
    }
   ],
   "source": [
    "from sklearn.feature_extraction.text import TfidfTransformer\n",
    "from sklearn.feature_extraction.text import CountVectorizer\n",
    "from sklearn.pipeline import Pipeline\n",
    "from sklearn.metrics import accuracy_score\n",
    "from sklearn.naive_bayes import GaussianNB \n",
    "from sklearn.naive_bayes import MultinomialNB \n",
    "#Using Gaussian Naive Bayes Classifier \n",
    "classifier = MultinomialNB()\n",
    "#Learning Model using Classifier\n",
    "classifier.fit(X_train,Y_train)\n",
    "#Testing on Test Data\n",
    "y_predicted = classifier.predict(X_test)\n",
    "print(\"Accuracy on test data = {} %\".format(round(accuracy_score(Y_test, y_predicted)*100),2))\n"
   ]
  },
  {
   "cell_type": "markdown",
   "metadata": {},
   "source": [
    "### K-Nearest Neighbours (KNN) Implementation (K=3)"
   ]
  },
  {
   "cell_type": "code",
   "execution_count": 8,
   "metadata": {},
   "outputs": [
    {
     "name": "stdout",
     "output_type": "stream",
     "text": [
      "Accuracy on test data = 54.0 %\n"
     ]
    }
   ],
   "source": [
    "from sklearn import neighbors\n",
    "from sklearn.pipeline import Pipeline\n",
    "from sklearn.metrics import accuracy_score\n",
    "#Using Gaussian Naive Bayes Classifier \n",
    "classifier = neighbors.KNeighborsClassifier(3)\n",
    "#Learning Model using Classifier\n",
    "classifier.fit(X_train,Y_train)\n",
    "#Testing on Test Data\n",
    "y_predicted = classifier.predict(X_test)\n",
    "print(\"Accuracy on test data = {} %\".format(round(accuracy_score(Y_test, y_predicted)*100),2))\n",
    "\n",
    "\n",
    "#neighbors.KNeighborsClassifier(4)"
   ]
  },
  {
   "cell_type": "markdown",
   "metadata": {},
   "source": [
    "### K-Nearest Neighbours (KNN) Implementation (K=4)"
   ]
  },
  {
   "cell_type": "code",
   "execution_count": 9,
   "metadata": {},
   "outputs": [
    {
     "name": "stdout",
     "output_type": "stream",
     "text": [
      "0.6923076923076923\n",
      "Accuracy on test data = 69.0 %\n"
     ]
    }
   ],
   "source": [
    "from sklearn import neighbors\n",
    "from sklearn.pipeline import Pipeline\n",
    "from sklearn.metrics import accuracy_score\n",
    "text_clf = Pipeline([('tfidf', TfidfTransformer()), ('clf', neighbors.KNeighborsClassifier(4)),])\n",
    "text_clf = text_clf.fit(X_train, Y_train)\n",
    "import numpy as np\n",
    "predicted = text_clf.predict(X_test)\n",
    "print(np.mean(predicted == Y_test))\n",
    "print(\"Accuracy on test data = {} %\".format(round(accuracy_score(Y_test,predicted)*100),2))"
   ]
  },
  {
   "cell_type": "markdown",
   "metadata": {},
   "source": [
    "### Rocchio Implementation"
   ]
  },
  {
   "cell_type": "code",
   "execution_count": 10,
   "metadata": {},
   "outputs": [
    {
     "name": "stdout",
     "output_type": "stream",
     "text": [
      "27    1\n",
      "17    0\n",
      "50    0\n",
      "35    1\n",
      "57    1\n",
      "4     0\n",
      "8     0\n",
      "60    0\n",
      "48    1\n",
      "18    0\n",
      "6     0\n",
      "20    0\n",
      "13    0\n",
      "44    1\n",
      "1     0\n",
      "40    1\n",
      "51    0\n",
      "9     0\n",
      "5     0\n",
      "19    0\n",
      "56    1\n",
      "46    1\n",
      "61    0\n",
      "59    1\n",
      "37    1\n",
      "28    1\n",
      "31    1\n",
      "10    0\n",
      "25    1\n",
      "33    1\n",
      "38    1\n",
      "16    0\n",
      "11    0\n",
      "58    1\n",
      "2     0\n",
      "12    0\n",
      "24    0\n",
      "49    1\n",
      "47    1\n",
      "26    1\n",
      "62    0\n",
      "22    0\n",
      "23    0\n",
      "41    1\n",
      "14    0\n",
      "43    1\n",
      "34    1\n",
      "0     0\n",
      "15    0\n",
      "36    1\n",
      "21    0\n",
      "Name: CLASS, dtype: int64\n",
      "[0 0 0 0 1 1 1 0 0 1 0 0 1]\n",
      "0.7692307692307693\n"
     ]
    },
    {
     "data": {
      "text/plain": [
       "'Accuracy on test data = 77.0 %'"
      ]
     },
     "execution_count": 10,
     "metadata": {},
     "output_type": "execute_result"
    }
   ],
   "source": [
    "from sklearn.neighbors.nearest_centroid import NearestCentroid\n",
    "from sklearn.metrics import accuracy_score\n",
    "import numpy as np\n",
    "print(Y_train)\n",
    "clf = NearestCentroid()\n",
    "clf.fit(X_train, Y_train)\n",
    "NearestCentroid(metric='euclidean', shrink_threshold=None)\n",
    "#predicted=print(clf.predict(X_train_tfidf))\n",
    "predicted = clf.predict(X_test)\n",
    "print(predicted)\n",
    "print(np.mean(predicted == Y_test))\n",
    "(\"Accuracy on test data = {} %\".format(round(accuracy_score(Y_test,predicted)*100),2))\n"
   ]
  },
  {
   "cell_type": "code",
   "execution_count": null,
   "metadata": {},
   "outputs": [],
   "source": []
  },
  {
   "cell_type": "code",
   "execution_count": null,
   "metadata": {},
   "outputs": [],
   "source": []
  }
 ],
 "metadata": {
  "kernelspec": {
   "display_name": "Python 3",
   "language": "python",
   "name": "python3"
  },
  "language_info": {
   "codemirror_mode": {
    "name": "ipython",
    "version": 3
   },
   "file_extension": ".py",
   "mimetype": "text/x-python",
   "name": "python",
   "nbconvert_exporter": "python",
   "pygments_lexer": "ipython3",
   "version": "3.5.5"
  }
 },
 "nbformat": 4,
 "nbformat_minor": 2
}
